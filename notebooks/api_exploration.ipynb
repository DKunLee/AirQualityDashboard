{
 "cells": [
  {
   "cell_type": "code",
   "execution_count": 1,
   "metadata": {},
   "outputs": [],
   "source": [
    "import json\n",
    "\n",
    "from openaq import OpenAQ\n",
    "\n",
    "# Opening the 'secrets.json' file that contains sensitive information like the API key\n",
    "with open(\"../secrets.json\") as file:\n",
    "    secrets = json.load(file) # Loading the contents of the JSON file into a dictionary\n",
    "    file.close() # Explicitly closing the file (optional here as 'with open' handles this automatically)\n",
    "\n",
    "# Extracting the OpenAQ API key from the loaded secrets dictionary\n",
    "openaq_key = secrets[\"openaq_api_key\"]\n",
    "\n",
    "# Initializing the OpenAQ client with the API key for authentication\n",
    "client = OpenAQ(api_key=openaq_key)\n",
    "client"
   ]
  },
  {
   "cell_type": "code",
   "execution_count": 4,
   "metadata": {},
   "outputs": [
    {
     "data": {
      "text/plain": [
       "Meta(name='openaq-api', website='/', page=1, limit=1000, found=24)"
      ]
     },
     "execution_count": 4,
     "metadata": {},
     "output_type": "execute_result"
    }
   ],
   "source": [
    "# Making a request to the OpenAQ API to get a list of locations within a specific bounding box\n",
    "# Bounding box coordinates specify the geographical area (here, Salt Lake City area)\n",
    "# 'limit=1000' restricts the response to 1000 locations\n",
    "slc_bbox_search_locations = client.locations.list(\n",
    "    bbox=(-112.661608,40.164494,-110.642871,40.996792),\n",
    "    limit=1000\n",
    ")\n",
    "\n",
    "# Accessing the metadata of the response, which contains information about the API query results\n",
    "slc_bbox_search_locations.meta"
   ]
  },
  {
   "cell_type": "code",
   "execution_count": 10,
   "metadata": {},
   "outputs": [
    {
     "data": {
      "text/plain": [
       "{'id': 2027500,\n",
       " 'name': 'Salt Lake City',\n",
       " 'locality': None,\n",
       " 'timezone': 'America/Denver',\n",
       " 'country': CountryBase(id=155, code='US', name='United States'),\n",
       " 'owner': OwnerBase(id=12, name='AirGradient'),\n",
       " 'provider': ProviderBase(id=66, name='AirGradient'),\n",
       " 'is_mobile': False,\n",
       " 'is_monitor': False,\n",
       " 'instruments': [InstrumentBase(id=7, name='AirGradient Sensor')],\n",
       " 'sensors': [SensorBase(id=7613456, name='pm25 µg/m³', parameter=ParameterBase(id=2, name='pm25', units='µg/m³', display_name='PM2.5')),\n",
       "  SensorBase(id=7613458, name='temperature c', parameter=ParameterBase(id=100, name='temperature', units='c', display_name='Temperature (C)'))],\n",
       " 'coordinates': Coordinates(latitude=40.73371845456546, longitude=-111.83216211779046),\n",
       " 'bounds': [-111.83216211779046,\n",
       "  40.73371845456546,\n",
       "  -111.83216211779046,\n",
       "  40.73371845456546],\n",
       " 'distance': None,\n",
       " 'datetime_first': Datetime(utc='2023-12-30T00:00:00Z', local='2023-12-29T17:00:00-07:00'),\n",
       " 'datetime_last': Datetime(utc='2024-02-07T20:00:00Z', local='2024-02-07T13:00:00-07:00')}"
      ]
     },
     "execution_count": 10,
     "metadata": {},
     "output_type": "execute_result"
    }
   ],
   "source": [
    "slc_bbox_search_locations.results[18].__dict__"
   ]
  },
  {
   "cell_type": "code",
   "execution_count": 6,
   "metadata": {},
   "outputs": [
    {
     "data": {
      "text/plain": [
       "{209: 'Tooele',\n",
       " 288: 'Hawthorne',\n",
       " 330: 'North Provo',\n",
       " 331: 'Lindon',\n",
       " 2168: 'Erda',\n",
       " 5818: 'Herriman #3',\n",
       " 6426: 'NR',\n",
       " 7296: 'MA',\n",
       " 7826: 'Cave Camp - Timpanog',\n",
       " 8758: 'Copper View',\n",
       " 8777: 'Rose Park',\n",
       " 221401: 'BV',\n",
       " 228304: 'Utah Tech. Center',\n",
       " 228376: 'Lake Park',\n",
       " 228377: 'Prison Site',\n",
       " 1236049: 'Glendale',\n",
       " 1989661: 'MittLn',\n",
       " 2026421: 'Constellation Labs Pleasant Grove',\n",
       " 2027500: 'Salt Lake City',\n",
       " 2960998: 'West Valley City',\n",
       " 3017494: 'Heber',\n",
       " 3081766: 'Overkill AQI Lab',\n",
       " 3306106: 'Federal Heights, Salt Lake City, Utah, USA',\n",
       " 3318370: 'Red Butte'}"
      ]
     },
     "execution_count": 6,
     "metadata": {},
     "output_type": "execute_result"
    }
   ],
   "source": [
    "locations_info = {}\n",
    "\n",
    "for location in slc_bbox_search_locations.results:\n",
    "    locations_info[location.id] = location.name\n",
    "\n",
    "locations_info"
   ]
  },
  {
   "cell_type": "code",
   "execution_count": 7,
   "metadata": {},
   "outputs": [
    {
     "data": {
      "text/plain": [
       "24"
      ]
     },
     "execution_count": 7,
     "metadata": {},
     "output_type": "execute_result"
    }
   ],
   "source": [
    "len(locations_info)"
   ]
  },
  {
   "cell_type": "code",
   "execution_count": 8,
   "metadata": {},
   "outputs": [],
   "source": [
    "with open(\"../locations.json\", \"w\", encoding=\"utf-8\") as file:\n",
    "    json.dump(locations_info, file, ensure_ascii=False, indent=4)\n",
    "    file.close()"
   ]
  }
 ],
 "metadata": {
  "kernelspec": {
   "display_name": "env",
   "language": "python",
   "name": "python3"
  },
  "language_info": {
   "codemirror_mode": {
    "name": "ipython",
    "version": 3
   },
   "file_extension": ".py",
   "mimetype": "text/x-python",
   "name": "python",
   "nbconvert_exporter": "python",
   "pygments_lexer": "ipython3",
   "version": "3.13.0"
  }
 },
 "nbformat": 4,
 "nbformat_minor": 2
}
